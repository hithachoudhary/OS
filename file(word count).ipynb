{
 "cells": [
  {
   "cell_type": "code",
   "execution_count": 9,
   "id": "1597d26b",
   "metadata": {},
   "outputs": [],
   "source": [
    "with open('file_aide.txt', 'w') as f:\n",
    "    # Define the data to be written\n",
    "    data = ['This is the first line', 'This is the second line', 'This is the third line']\n",
    "    # Use a for loop to write each line of data to the file\n",
    "    for line in data:\n",
    "        f.write(line + '\\n')\n",
    "        # Optionally, print the data as it is written to the file\n",
    "        #print(line)"
   ]
  },
  {
   "cell_type": "code",
   "execution_count": 17,
   "id": "dc9d99f9",
   "metadata": {},
   "outputs": [
    {
     "name": "stdout",
     "output_type": "stream",
     "text": [
      "Number of words in text file : 13\n",
      "this is used to read the number of words in the text file\n",
      "\n"
     ]
    }
   ],
   "source": [
    "file = open(\"data.txt\", \"rt\")\n",
    "data = file.read()\n",
    "words = data.split()\n",
    "\n",
    "print('Number of words in text file :', len(words))\n",
    "print(data)"
   ]
  },
  {
   "cell_type": "code",
   "execution_count": null,
   "id": "e5a15f45",
   "metadata": {},
   "outputs": [],
   "source": []
  }
 ],
 "metadata": {
  "kernelspec": {
   "display_name": "Python 3 (ipykernel)",
   "language": "python",
   "name": "python3"
  },
  "language_info": {
   "codemirror_mode": {
    "name": "ipython",
    "version": 3
   },
   "file_extension": ".py",
   "mimetype": "text/x-python",
   "name": "python",
   "nbconvert_exporter": "python",
   "pygments_lexer": "ipython3",
   "version": "3.9.12"
  }
 },
 "nbformat": 4,
 "nbformat_minor": 5
}
