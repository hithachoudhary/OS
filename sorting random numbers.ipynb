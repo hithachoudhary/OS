{
 "cells": [
  {
   "cell_type": "code",
   "execution_count": 50,
   "id": "76fa2f95",
   "metadata": {},
   "outputs": [
    {
     "name": "stdout",
     "output_type": "stream",
     "text": [
      "Enter the length of the list:5\n",
      "The random list is:  [2, 3, 3, 5, 0]\n",
      "The list after sorting through the random numbers is: [0, 2, 3, 3, 5]\n"
     ]
    }
   ],
   "source": [
    "import random\n",
    "def sort(lt):\n",
    "    temp=0\n",
    "    for i in range(0,len(lt)):\n",
    "        for j in range(0,len(lt)):\n",
    "            if lt[i]<lt[j]:\n",
    "                temp=lt[i]\n",
    "                lt[i]=lt[j]\n",
    "                lt[j]=temp\n",
    "    return f\"The list after sorting through the random numbers is: {lt}\"\n",
    "li=int(input(\"Enter the length of the list:\"))\n",
    "lt=[]\n",
    "for k in range(li):\n",
    "    l=random.randint(0,li)\n",
    "    lt.append(l)\n",
    "    #if l not in lt:\n",
    "        #lt.append(l)\n",
    "print(\"The random list is: \",lt)\n",
    "print(sort(lt))"
   ]
  },
  {
   "cell_type": "code",
   "execution_count": null,
   "id": "0203def1",
   "metadata": {},
   "outputs": [],
   "source": []
  }
 ],
 "metadata": {
  "kernelspec": {
   "display_name": "Python 3 (ipykernel)",
   "language": "python",
   "name": "python3"
  },
  "language_info": {
   "codemirror_mode": {
    "name": "ipython",
    "version": 3
   },
   "file_extension": ".py",
   "mimetype": "text/x-python",
   "name": "python",
   "nbconvert_exporter": "python",
   "pygments_lexer": "ipython3",
   "version": "3.9.12"
  }
 },
 "nbformat": 4,
 "nbformat_minor": 5
}
