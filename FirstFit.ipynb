{
 "cells": [
  {
   "cell_type": "code",
   "execution_count": 29,
   "id": "f35e5644",
   "metadata": {},
   "outputs": [
    {
     "name": "stdout",
     "output_type": "stream",
     "text": [
      "Enter the first number:12\n",
      "Enter the second number:12.5\n",
      "sum = 24.5\n"
     ]
    }
   ],
   "source": [
    "def add_numbers(a,b):\n",
    "    x=a+b\n",
    "    return x\n",
    "v=float(input(\"Enter the first number:\"))\n",
    "n=float(input(\"Enter the second number:\"))\n",
    "print(\"sum =\",add_numbers(v,n))"
   ]
  },
  {
   "cell_type": "code",
   "execution_count": 1,
   "id": "654a1454",
   "metadata": {},
   "outputs": [
    {
     "name": "stdout",
     "output_type": "stream",
     "text": [
      " Process No. Process Size   Block no.\n",
      "  1           212           2\n",
      "  2           417           5\n",
      "  3           112           3\n",
      "  4           426           Not Allocated\n"
     ]
    }
   ],
   "source": [
    "# Function to allocate memory to\n",
    "# blocks as per First fit algorithm\n",
    "def firstFit(blockSize, m, processSize, n):\n",
    "     \n",
    "    # Stores block id of the\n",
    "    # block allocated to a process\n",
    "    allocation = [-1] * n\n",
    " \n",
    "    # Initially no block is assigned to any process\n",
    " \n",
    "    # pick each process and find suitable blocks\n",
    "    # according to its size ad assign to it\n",
    "    for i in range(n):\n",
    "        for j in range(m):\n",
    "            if blockSize[j] >= processSize[i]:\n",
    "                 \n",
    "                # allocate block j to p[i] process\n",
    "                allocation[i] = j\n",
    " \n",
    "                # Reduce available memory in this block.\n",
    "                blockSize[j]=0\n",
    "                break\n",
    " \n",
    "    print(\" Process No. Process Size   Block no.\")\n",
    "    for i in range(n):\n",
    "        print(\" \", i + 1, \"         \", processSize[i],\"         \", end = \" \")\n",
    "        if allocation[i] != -1:\n",
    "            print(allocation[i] + 1)\n",
    "        else:\n",
    "            print(\"Not Allocated\")\n",
    " # Driver code\n",
    "if __name__ == '__main__':\n",
    "    blockSize = [100,500, 200, 300, 600]\n",
    "    processSize = [212, 417, 112, 426]\n",
    "    m = len(blockSize)\n",
    "    n = len(processSize)\n",
    " \n",
    "    firstFit(blockSize, m, processSize, n)"
   ]
  },
  {
   "cell_type": "code",
   "execution_count": null,
   "id": "ffe4e9e8",
   "metadata": {},
   "outputs": [],
   "source": []
  }
 ],
 "metadata": {
  "kernelspec": {
   "display_name": "Python 3 (ipykernel)",
   "language": "python",
   "name": "python3"
  },
  "language_info": {
   "codemirror_mode": {
    "name": "ipython",
    "version": 3
   },
   "file_extension": ".py",
   "mimetype": "text/x-python",
   "name": "python",
   "nbconvert_exporter": "python",
   "pygments_lexer": "ipython3",
   "version": "3.9.12"
  }
 },
 "nbformat": 4,
 "nbformat_minor": 5
}
